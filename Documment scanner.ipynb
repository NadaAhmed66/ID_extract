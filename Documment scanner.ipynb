{
 "cells": [
  {
   "cell_type": "code",
   "execution_count": 23,
   "id": "06b60b0f-b173-448b-9213-2ff69054ff63",
   "metadata": {},
   "outputs": [
    {
     "name": "stdout",
     "output_type": "stream",
     "text": [
      "Overwriting OCR.py\n"
     ]
    }
   ],
   "source": [
    "%%writefile OCR.py\n",
    "import streamlit as st\n",
    "import numpy as np\n",
    "import pytesseract\n",
    "from PIL import Image\n",
    "pytesseract.pytesseract.tesseract_cmd=r\"C:\\Program Files\\Tesseract-OCR\\tesseract.exe\"\n",
    "\n",
    "st.title('Document Scanner Application')\n",
    "\n",
    "\n",
    "def extract_text(img):\n",
    "    text=pytesseract.image_to_string(img)\n",
    "    return text \n",
    "\n",
    "\n",
    "upload=st.file_uploader(\"please , upload an image...\",type=['png','jpg','jpeg','WEBP'])\n",
    "\n",
    "\n",
    "if upload is not None:\n",
    "    img = Image.open(upload)\n",
    "    img = np.array(img)\n",
    "    st.image(img, caption='Uploaded image')\n",
    "\n",
    "    \n",
    "    text = extract_text(img)\n",
    "    text_list = text.splitlines()\n",
    "   \n",
    "\n",
    "    \n",
    "    st.write('🏛️ Organization Name : ',text_list[7],text_list[8]) \n",
    "    \n",
    "    st.write('📅',text_list[4],text_list[5])\n",
    "    \n",
    "    st.write('👤',text_list[10],text_list[11]) \n",
    "    \n",
    "    st.write('🎓',text_list[13],text_list[14])\n",
    "    \n",
    "    st.write('📘',text_list[16],text_list[17])\n",
    "    \n",
    "    st.write('🎂',text_list[19],text_list[20])\n"
   ]
  }
 ],
 "metadata": {
  "kernelspec": {
   "display_name": "Python 3 (ipykernel)",
   "language": "python",
   "name": "python3"
  },
  "language_info": {
   "codemirror_mode": {
    "name": "ipython",
    "version": 3
   },
   "file_extension": ".py",
   "mimetype": "text/x-python",
   "name": "python",
   "nbconvert_exporter": "python",
   "pygments_lexer": "ipython3",
   "version": "3.10.18"
  }
 },
 "nbformat": 4,
 "nbformat_minor": 5
}
